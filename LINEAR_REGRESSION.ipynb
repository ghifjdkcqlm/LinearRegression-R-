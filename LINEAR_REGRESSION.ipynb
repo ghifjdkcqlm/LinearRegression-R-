{
 "cells": [
  {
   "cell_type": "markdown",
   "metadata": {},
   "source": [
    "preprocessing has been done with sklearn module, rest implementation of linear regression model is from scratch "
   ]
  },
  {
   "cell_type": "code",
   "execution_count": 1,
   "metadata": {},
   "outputs": [],
   "source": [
    "import pandas as pd \n",
    "import numpy as np \n",
    "import matplotlib.pyplot as plt\n",
    "import seaborn as sns"
   ]
  },
  {
   "cell_type": "code",
   "execution_count": 2,
   "metadata": {},
   "outputs": [],
   "source": [
    "df = pd.read_csv('robosheet1.csv')"
   ]
  },
  {
   "cell_type": "code",
   "execution_count": 3,
   "metadata": {},
   "outputs": [
    {
     "data": {
      "text/html": [
       "<div>\n",
       "<style scoped>\n",
       "    .dataframe tbody tr th:only-of-type {\n",
       "        vertical-align: middle;\n",
       "    }\n",
       "\n",
       "    .dataframe tbody tr th {\n",
       "        vertical-align: top;\n",
       "    }\n",
       "\n",
       "    .dataframe thead th {\n",
       "        text-align: right;\n",
       "    }\n",
       "</style>\n",
       "<table border=\"1\" class=\"dataframe\">\n",
       "  <thead>\n",
       "    <tr style=\"text-align: right;\">\n",
       "      <th></th>\n",
       "      <th>AGE</th>\n",
       "      <th>FEMALE</th>\n",
       "      <th>LOS</th>\n",
       "      <th>RACE</th>\n",
       "      <th>TOTCHG</th>\n",
       "      <th>APRDRG</th>\n",
       "    </tr>\n",
       "  </thead>\n",
       "  <tbody>\n",
       "    <tr>\n",
       "      <th>0</th>\n",
       "      <td>17</td>\n",
       "      <td>1</td>\n",
       "      <td>2</td>\n",
       "      <td>1.0</td>\n",
       "      <td>2660</td>\n",
       "      <td>560</td>\n",
       "    </tr>\n",
       "    <tr>\n",
       "      <th>1</th>\n",
       "      <td>17</td>\n",
       "      <td>0</td>\n",
       "      <td>2</td>\n",
       "      <td>1.0</td>\n",
       "      <td>1689</td>\n",
       "      <td>753</td>\n",
       "    </tr>\n",
       "    <tr>\n",
       "      <th>2</th>\n",
       "      <td>17</td>\n",
       "      <td>1</td>\n",
       "      <td>7</td>\n",
       "      <td>1.0</td>\n",
       "      <td>20060</td>\n",
       "      <td>930</td>\n",
       "    </tr>\n",
       "    <tr>\n",
       "      <th>3</th>\n",
       "      <td>17</td>\n",
       "      <td>1</td>\n",
       "      <td>1</td>\n",
       "      <td>1.0</td>\n",
       "      <td>736</td>\n",
       "      <td>758</td>\n",
       "    </tr>\n",
       "    <tr>\n",
       "      <th>4</th>\n",
       "      <td>17</td>\n",
       "      <td>1</td>\n",
       "      <td>1</td>\n",
       "      <td>1.0</td>\n",
       "      <td>1194</td>\n",
       "      <td>754</td>\n",
       "    </tr>\n",
       "    <tr>\n",
       "      <th>...</th>\n",
       "      <td>...</td>\n",
       "      <td>...</td>\n",
       "      <td>...</td>\n",
       "      <td>...</td>\n",
       "      <td>...</td>\n",
       "      <td>...</td>\n",
       "    </tr>\n",
       "    <tr>\n",
       "      <th>495</th>\n",
       "      <td>0</td>\n",
       "      <td>1</td>\n",
       "      <td>6</td>\n",
       "      <td>1.0</td>\n",
       "      <td>5881</td>\n",
       "      <td>636</td>\n",
       "    </tr>\n",
       "    <tr>\n",
       "      <th>496</th>\n",
       "      <td>0</td>\n",
       "      <td>1</td>\n",
       "      <td>2</td>\n",
       "      <td>1.0</td>\n",
       "      <td>1171</td>\n",
       "      <td>640</td>\n",
       "    </tr>\n",
       "    <tr>\n",
       "      <th>497</th>\n",
       "      <td>0</td>\n",
       "      <td>1</td>\n",
       "      <td>2</td>\n",
       "      <td>1.0</td>\n",
       "      <td>1171</td>\n",
       "      <td>640</td>\n",
       "    </tr>\n",
       "    <tr>\n",
       "      <th>498</th>\n",
       "      <td>0</td>\n",
       "      <td>1</td>\n",
       "      <td>2</td>\n",
       "      <td>1.0</td>\n",
       "      <td>1086</td>\n",
       "      <td>640</td>\n",
       "    </tr>\n",
       "    <tr>\n",
       "      <th>499</th>\n",
       "      <td>0</td>\n",
       "      <td>0</td>\n",
       "      <td>4</td>\n",
       "      <td>1.0</td>\n",
       "      <td>4931</td>\n",
       "      <td>640</td>\n",
       "    </tr>\n",
       "  </tbody>\n",
       "</table>\n",
       "<p>500 rows × 6 columns</p>\n",
       "</div>"
      ],
      "text/plain": [
       "     AGE  FEMALE  LOS  RACE  TOTCHG  APRDRG\n",
       "0     17       1    2   1.0    2660     560\n",
       "1     17       0    2   1.0    1689     753\n",
       "2     17       1    7   1.0   20060     930\n",
       "3     17       1    1   1.0     736     758\n",
       "4     17       1    1   1.0    1194     754\n",
       "..   ...     ...  ...   ...     ...     ...\n",
       "495    0       1    6   1.0    5881     636\n",
       "496    0       1    2   1.0    1171     640\n",
       "497    0       1    2   1.0    1171     640\n",
       "498    0       1    2   1.0    1086     640\n",
       "499    0       0    4   1.0    4931     640\n",
       "\n",
       "[500 rows x 6 columns]"
      ]
     },
     "execution_count": 3,
     "metadata": {},
     "output_type": "execute_result"
    }
   ],
   "source": [
    "df"
   ]
  },
  {
   "cell_type": "code",
   "execution_count": 4,
   "metadata": {},
   "outputs": [
    {
     "name": "stdout",
     "output_type": "stream",
     "text": [
      "<class 'pandas.core.frame.DataFrame'>\n",
      "RangeIndex: 500 entries, 0 to 499\n",
      "Data columns (total 6 columns):\n",
      " #   Column  Non-Null Count  Dtype  \n",
      "---  ------  --------------  -----  \n",
      " 0   AGE     500 non-null    int64  \n",
      " 1   FEMALE  500 non-null    int64  \n",
      " 2   LOS     500 non-null    int64  \n",
      " 3   RACE    499 non-null    float64\n",
      " 4   TOTCHG  500 non-null    int64  \n",
      " 5   APRDRG  500 non-null    int64  \n",
      "dtypes: float64(1), int64(5)\n",
      "memory usage: 23.6 KB\n"
     ]
    }
   ],
   "source": [
    "df.info()"
   ]
  },
  {
   "cell_type": "markdown",
   "metadata": {},
   "source": [
    "#1. preprocessing our data set \n",
    "there are no non numeric values in our dataset so no need to think about categorical columns\n",
    "\n",
    "also as we can see from above there is just one missing value in our code which is in age coulmn so we can simply drop that entire row. wouldnt make much of a difference tbh"
   ]
  },
  {
   "cell_type": "code",
   "execution_count": 5,
   "metadata": {},
   "outputs": [],
   "source": [
    "df.dropna(axis=0, inplace=True)"
   ]
  },
  {
   "cell_type": "code",
   "execution_count": 6,
   "metadata": {},
   "outputs": [
    {
     "data": {
      "text/html": [
       "<div>\n",
       "<style scoped>\n",
       "    .dataframe tbody tr th:only-of-type {\n",
       "        vertical-align: middle;\n",
       "    }\n",
       "\n",
       "    .dataframe tbody tr th {\n",
       "        vertical-align: top;\n",
       "    }\n",
       "\n",
       "    .dataframe thead th {\n",
       "        text-align: right;\n",
       "    }\n",
       "</style>\n",
       "<table border=\"1\" class=\"dataframe\">\n",
       "  <thead>\n",
       "    <tr style=\"text-align: right;\">\n",
       "      <th></th>\n",
       "      <th>AGE</th>\n",
       "      <th>FEMALE</th>\n",
       "      <th>LOS</th>\n",
       "      <th>RACE</th>\n",
       "      <th>TOTCHG</th>\n",
       "      <th>APRDRG</th>\n",
       "    </tr>\n",
       "  </thead>\n",
       "  <tbody>\n",
       "    <tr>\n",
       "      <th>0</th>\n",
       "      <td>17</td>\n",
       "      <td>1</td>\n",
       "      <td>2</td>\n",
       "      <td>1.0</td>\n",
       "      <td>2660</td>\n",
       "      <td>560</td>\n",
       "    </tr>\n",
       "    <tr>\n",
       "      <th>1</th>\n",
       "      <td>17</td>\n",
       "      <td>0</td>\n",
       "      <td>2</td>\n",
       "      <td>1.0</td>\n",
       "      <td>1689</td>\n",
       "      <td>753</td>\n",
       "    </tr>\n",
       "    <tr>\n",
       "      <th>2</th>\n",
       "      <td>17</td>\n",
       "      <td>1</td>\n",
       "      <td>7</td>\n",
       "      <td>1.0</td>\n",
       "      <td>20060</td>\n",
       "      <td>930</td>\n",
       "    </tr>\n",
       "    <tr>\n",
       "      <th>3</th>\n",
       "      <td>17</td>\n",
       "      <td>1</td>\n",
       "      <td>1</td>\n",
       "      <td>1.0</td>\n",
       "      <td>736</td>\n",
       "      <td>758</td>\n",
       "    </tr>\n",
       "    <tr>\n",
       "      <th>4</th>\n",
       "      <td>17</td>\n",
       "      <td>1</td>\n",
       "      <td>1</td>\n",
       "      <td>1.0</td>\n",
       "      <td>1194</td>\n",
       "      <td>754</td>\n",
       "    </tr>\n",
       "    <tr>\n",
       "      <th>...</th>\n",
       "      <td>...</td>\n",
       "      <td>...</td>\n",
       "      <td>...</td>\n",
       "      <td>...</td>\n",
       "      <td>...</td>\n",
       "      <td>...</td>\n",
       "    </tr>\n",
       "    <tr>\n",
       "      <th>495</th>\n",
       "      <td>0</td>\n",
       "      <td>1</td>\n",
       "      <td>6</td>\n",
       "      <td>1.0</td>\n",
       "      <td>5881</td>\n",
       "      <td>636</td>\n",
       "    </tr>\n",
       "    <tr>\n",
       "      <th>496</th>\n",
       "      <td>0</td>\n",
       "      <td>1</td>\n",
       "      <td>2</td>\n",
       "      <td>1.0</td>\n",
       "      <td>1171</td>\n",
       "      <td>640</td>\n",
       "    </tr>\n",
       "    <tr>\n",
       "      <th>497</th>\n",
       "      <td>0</td>\n",
       "      <td>1</td>\n",
       "      <td>2</td>\n",
       "      <td>1.0</td>\n",
       "      <td>1171</td>\n",
       "      <td>640</td>\n",
       "    </tr>\n",
       "    <tr>\n",
       "      <th>498</th>\n",
       "      <td>0</td>\n",
       "      <td>1</td>\n",
       "      <td>2</td>\n",
       "      <td>1.0</td>\n",
       "      <td>1086</td>\n",
       "      <td>640</td>\n",
       "    </tr>\n",
       "    <tr>\n",
       "      <th>499</th>\n",
       "      <td>0</td>\n",
       "      <td>0</td>\n",
       "      <td>4</td>\n",
       "      <td>1.0</td>\n",
       "      <td>4931</td>\n",
       "      <td>640</td>\n",
       "    </tr>\n",
       "  </tbody>\n",
       "</table>\n",
       "<p>499 rows × 6 columns</p>\n",
       "</div>"
      ],
      "text/plain": [
       "     AGE  FEMALE  LOS  RACE  TOTCHG  APRDRG\n",
       "0     17       1    2   1.0    2660     560\n",
       "1     17       0    2   1.0    1689     753\n",
       "2     17       1    7   1.0   20060     930\n",
       "3     17       1    1   1.0     736     758\n",
       "4     17       1    1   1.0    1194     754\n",
       "..   ...     ...  ...   ...     ...     ...\n",
       "495    0       1    6   1.0    5881     636\n",
       "496    0       1    2   1.0    1171     640\n",
       "497    0       1    2   1.0    1171     640\n",
       "498    0       1    2   1.0    1086     640\n",
       "499    0       0    4   1.0    4931     640\n",
       "\n",
       "[499 rows x 6 columns]"
      ]
     },
     "execution_count": 6,
     "metadata": {},
     "output_type": "execute_result"
    }
   ],
   "source": [
    "df"
   ]
  },
  {
   "cell_type": "code",
   "execution_count": 7,
   "metadata": {},
   "outputs": [],
   "source": [
    "# Separate features (X) and target variable (y)\n",
    "X = df[['AGE', 'LOS', 'FEMALE', 'APRDRG', 'RACE']].values  # Select relevant features and convert to NumPy array\n",
    "Y = df['TOTCHG'].values  # Target variable"
   ]
  },
  {
   "cell_type": "code",
   "execution_count": 8,
   "metadata": {},
   "outputs": [
    {
     "name": "stdout",
     "output_type": "stream",
     "text": [
      "(499, 5)\n",
      "(499,)\n"
     ]
    }
   ],
   "source": [
    "print(X.shape)\n",
    "print(Y.shape)"
   ]
  },
  {
   "cell_type": "markdown",
   "metadata": {},
   "source": [
    "now we have to split the data into train and test models"
   ]
  },
  {
   "cell_type": "markdown",
   "metadata": {},
   "source": []
  },
  {
   "cell_type": "code",
   "execution_count": 9,
   "metadata": {},
   "outputs": [],
   "source": [
    "from sklearn.model_selection import train_test_split"
   ]
  },
  {
   "cell_type": "code",
   "execution_count": 10,
   "metadata": {},
   "outputs": [],
   "source": [
    "X_train, X_test, Y_train, Y_test = train_test_split(X,Y,test_size = 0.2,random_state=42)"
   ]
  },
  {
   "cell_type": "markdown",
   "metadata": {},
   "source": [
    "scale the features\n"
   ]
  },
  {
   "cell_type": "code",
   "execution_count": 11,
   "metadata": {},
   "outputs": [],
   "source": [
    "from sklearn.preprocessing import StandardScaler"
   ]
  },
  {
   "cell_type": "code",
   "execution_count": 12,
   "metadata": {},
   "outputs": [],
   "source": [
    "scaler = StandardScaler()\n",
    "X_train_scaled = scaler.fit_transform(X_train)\n",
    "X_test_scaled = scaler.transform(X_test)"
   ]
  },
  {
   "cell_type": "code",
   "execution_count": 13,
   "metadata": {},
   "outputs": [
    {
     "data": {
      "text/plain": [
       "array([[-0.74395322, -0.23823823, -1.02281662,  0.11212991, -0.15865348],\n",
       "       [-0.74395322,  2.52504822, -1.02281662, -2.82076934, -0.15865348],\n",
       "       [-0.74395322,  0.03809041, -1.02281662,  0.11212991, -0.15865348],\n",
       "       [-0.74395322,  0.03809041, -1.02281662,  0.11212991, -0.15865348],\n",
       "       [-0.74395322,  0.03809041, -1.02281662,  0.11212991, -0.15865348],\n",
       "       [-0.74395322,  0.03809041, -1.02281662,  0.11212991, -0.15865348],\n",
       "       [-0.74395322,  0.03809041, -1.02281662,  0.11212991, -0.15865348],\n",
       "       [-0.60020633,  0.31441906, -1.02281662, -3.31055768, -0.15865348],\n",
       "       [ 1.26850329, -0.51456687,  0.97769236,  0.78850428, -0.15865348],\n",
       "       [ 1.69974397, -0.23823823,  0.97769236,  0.80016591, -0.15865348],\n",
       "       [-0.74395322, -0.23823823,  0.97769236,  0.11212991, -0.15865348],\n",
       "       [-0.74395322,  3.35403415, -1.02281662, -0.03947125, -0.15865348],\n",
       "       [-0.74395322, -0.23823823,  0.97769236,  0.11212991, -0.15865348],\n",
       "       [-0.74395322,  0.31441906,  0.97769236,  0.11212991, -0.15865348],\n",
       "       [-0.74395322, -0.23823823, -1.02281662,  0.11212991, -0.15865348],\n",
       "       [-0.74395322, -0.23823823, -1.02281662,  0.11212991, -0.15865348],\n",
       "       [-0.74395322,  0.03809041, -1.02281662,  0.11212991, -0.15865348],\n",
       "       [ 0.83726261, -0.23823823, -1.02281662, -1.17064909, -0.15865348],\n",
       "       [ 0.9810095 , -0.23823823,  0.97769236,  0.77684266, -0.15865348],\n",
       "       [-0.74395322, -0.23823823, -1.02281662,  0.11212991, -0.15865348],\n",
       "       [-0.74395322,  0.03809041, -1.02281662,  0.11212991, -0.15865348],\n",
       "       [-0.74395322, -0.23823823, -1.02281662,  0.11212991, -0.15865348],\n",
       "       [-0.74395322,  0.03809041,  0.97769236,  0.11212991, -0.15865348],\n",
       "       [-0.74395322, -0.23823823, -1.02281662, -2.81493852, -0.15865348],\n",
       "       [-0.31271254,  0.31441906,  0.97769236,  0.52028686, -0.15865348],\n",
       "       [-0.74395322, -0.23823823, -1.02281662,  0.11212991, -0.15865348],\n",
       "       [-0.74395322, -0.79089552,  0.97769236, -0.2318881 , -0.15865348],\n",
       "       [-0.74395322, -0.51456687, -1.02281662,  0.11212991, -0.15865348],\n",
       "       [-0.74395322,  0.03809041,  0.97769236, -3.31055768, -0.15865348],\n",
       "       [ 1.26850329,  1.14340499,  0.97769236,  0.77684266, -0.15865348],\n",
       "       [-0.74395322,  0.03809041, -1.02281662,  0.11212991, -0.15865348],\n",
       "       [-0.74395322,  0.03809041,  0.97769236,  0.11212991, -0.15865348],\n",
       "       [ 1.55599707,  0.31441906,  0.97769236,  0.77684266, -0.15865348],\n",
       "       [ 1.69974397,  1.14340499,  0.97769236,  1.80306585, -0.15865348],\n",
       "       [ 1.69974397, -0.51456687,  0.97769236, -3.30472686, -0.15865348],\n",
       "       [-0.74395322, -0.23823823, -1.02281662,  0.11212991, -0.15865348],\n",
       "       [-0.74395322,  0.03809041,  0.97769236,  0.11212991, -0.15865348],\n",
       "       [-0.74395322, -0.23823823, -1.02281662,  0.11212991, -0.15865348],\n",
       "       [ 1.26850329, -0.23823823,  0.97769236,  0.81182754, -0.15865348],\n",
       "       [-0.74395322, -0.23823823, -1.02281662,  0.11212991, -0.15865348],\n",
       "       [ 1.41225018, -0.51456687,  0.97769236,  0.80016591, -0.15865348],\n",
       "       [ 1.69974397,  0.03809041, -1.02281662, -2.43010482, -0.15865348],\n",
       "       [ 1.69974397, -0.51456687,  0.97769236,  0.75935022, -0.15865348],\n",
       "       [ 0.9810095 , -0.23823823,  0.97769236,  0.77101184, -0.15865348],\n",
       "       [ 1.69974397, -0.23823823,  0.97769236, -0.35433518, -0.15865348],\n",
       "       [ 1.41225018, -0.23823823, -1.02281662,  0.77101184, -0.15865348],\n",
       "       [ 1.41225018, -0.51456687,  0.97769236,  0.77101184, -0.15865348],\n",
       "       [-0.74395322,  0.31441906,  0.97769236,  0.11212991, -0.15865348],\n",
       "       [-0.74395322, -0.23823823,  0.97769236,  0.11212991, -0.15865348],\n",
       "       [-0.74395322, -0.23823823,  0.97769236,  0.11212991, -0.15865348],\n",
       "       [-0.74395322, -0.23823823, -1.02281662,  0.11212991, -0.15865348],\n",
       "       [-0.74395322, -0.23823823,  0.97769236,  0.11212991, -0.15865348],\n",
       "       [-0.74395322, -0.23823823, -1.02281662,  0.11212991, -0.15865348],\n",
       "       [-0.74395322, -0.23823823, -1.02281662,  0.11212991, -0.15865348],\n",
       "       [ 1.41225018,  0.03809041,  0.97769236,  0.77101184, -0.15865348],\n",
       "       [-0.74395322, -0.23823823,  0.97769236,  0.11212991, -0.15865348],\n",
       "       [-0.74395322, -0.23823823, -1.02281662,  0.11212991, -0.15865348],\n",
       "       [-0.74395322,  0.86707635,  0.97769236,  0.08880665, -0.15865348],\n",
       "       [-0.74395322, -0.51456687, -1.02281662,  0.11212991, -0.15865348],\n",
       "       [ 1.26850329, -0.51456687,  0.97769236,  0.77684266, -0.15865348],\n",
       "       [-0.74395322, -0.23823823, -1.02281662,  0.11212991, -0.15865348],\n",
       "       [ 1.12475639, -0.79089552,  0.97769236,  0.78267347, -0.15865348],\n",
       "       [-0.74395322, -0.23823823, -1.02281662,  0.07714503, -0.15865348],\n",
       "       [-0.74395322, -0.23823823, -1.02281662,  0.11212991, -0.15865348],\n",
       "       [-0.74395322,  0.03809041,  0.97769236,  0.11212991, -0.15865348],\n",
       "       [-0.74395322, -0.23823823, -1.02281662,  0.11212991, -0.15865348],\n",
       "       [-0.74395322,  0.03809041, -1.02281662,  0.11212991, -0.15865348],\n",
       "       [ 1.41225018, -0.51456687,  0.97769236,  0.78267347, -0.15865348],\n",
       "       [-0.74395322,  0.03809041,  0.97769236,  0.11212991, -0.15865348],\n",
       "       [-0.74395322,  0.03809041,  0.97769236,  0.11212991, -0.15865348],\n",
       "       [-0.74395322, -0.23823823, -1.02281662,  0.11212991, -0.15865348],\n",
       "       [ 1.12475639,  0.03809041,  0.97769236,  0.77684266, -0.15865348],\n",
       "       [-0.74395322, -0.23823823, -1.02281662, -2.78578445,  7.28872758],\n",
       "       [ 1.12475639, -0.51456687,  0.97769236,  0.77684266, -0.15865348],\n",
       "       [-0.74395322, -0.23823823, -1.02281662,  0.11212991, -0.15865348],\n",
       "       [-0.74395322, -0.23823823,  0.97769236,  0.11212991, -0.15865348],\n",
       "       [-0.74395322, -0.23823823,  0.97769236,  0.11212991, -0.15865348],\n",
       "       [-0.74395322, -0.23823823,  0.97769236,  0.11212991, -0.15865348],\n",
       "       [-0.74395322,  0.03809041, -1.02281662,  0.11212991, -0.15865348],\n",
       "       [-0.74395322,  0.03809041,  0.97769236,  0.11212991, -0.15865348],\n",
       "       [ 0.83726261, -0.51456687, -1.02281662,  0.78850428, -0.15865348],\n",
       "       [-0.74395322, -0.23823823, -1.02281662,  0.11212991, -0.15865348],\n",
       "       [-0.02521875, -0.23823823,  0.97769236, -3.31055768, -0.15865348],\n",
       "       [-0.74395322,  0.03809041, -1.02281662,  0.07131421, -0.15865348],\n",
       "       [ 1.55599707, -0.23823823, -1.02281662, -3.49714371,  1.70319179],\n",
       "       [ 1.41225018, -0.79089552, -1.02281662,  0.77684266, -0.15865348],\n",
       "       [ 1.69974397,  0.31441906,  0.97769236, -3.31055768, -0.15865348],\n",
       "       [-0.74395322,  0.03809041,  0.97769236,  0.11212991, -0.15865348],\n",
       "       [-0.74395322,  0.03809041,  0.97769236,  0.11212991, -0.15865348],\n",
       "       [-0.74395322, -0.23823823,  0.97769236,  0.11212991, -0.15865348],\n",
       "       [-0.74395322, -0.51456687, -1.02281662, -2.81493852, -0.15865348],\n",
       "       [-0.74395322, -0.23823823,  0.97769236,  0.11212991, -0.15865348],\n",
       "       [-0.74395322,  0.03809041, -1.02281662,  0.11212991, -0.15865348],\n",
       "       [ 1.26850329, -0.51456687, -1.02281662,  0.77684266, -0.15865348],\n",
       "       [ 1.41225018,  0.31441906,  0.97769236,  0.80016591, -0.15865348],\n",
       "       [ 1.69974397,  0.03809041,  0.97769236, -3.32221931, -0.15865348],\n",
       "       [-0.74395322,  0.03809041, -1.02281662,  0.11212991, -0.15865348],\n",
       "       [ 1.26850329,  0.03809041,  0.97769236,  0.80016591, -0.15865348],\n",
       "       [ 0.69351571,  1.14340499, -1.02281662, -1.77122289, -0.15865348],\n",
       "       [ 1.69974397,  1.14340499,  0.97769236,  1.69228039, -0.15865348]])"
      ]
     },
     "execution_count": 13,
     "metadata": {},
     "output_type": "execute_result"
    }
   ],
   "source": [
    "X_test_scaled"
   ]
  },
  {
   "cell_type": "code",
   "execution_count": 14,
   "metadata": {},
   "outputs": [
    {
     "data": {
      "text/plain": [
       "array([[-0.60020633, -0.51456687,  0.97769236, -2.16771821, -0.15865348],\n",
       "       [ 1.69974397,  0.03809041,  0.97769236,  0.77101184, -0.15865348],\n",
       "       [-0.74395322,  0.31441906,  0.97769236,  0.11212991, -0.15865348],\n",
       "       ...,\n",
       "       [ 1.41225018,  0.5907477 ,  0.97769236,  0.69521127, -0.15865348],\n",
       "       [-0.74395322, -0.23823823,  0.97769236,  0.11212991, -0.15865348],\n",
       "       [-0.74395322, -0.23823823, -1.02281662,  0.11212991, -0.15865348]])"
      ]
     },
     "execution_count": 14,
     "metadata": {},
     "output_type": "execute_result"
    }
   ],
   "source": [
    "X_train_scaled"
   ]
  },
  {
   "cell_type": "code",
   "execution_count": 15,
   "metadata": {},
   "outputs": [
    {
     "data": {
      "text/plain": [
       "(399, 5)"
      ]
     },
     "execution_count": 15,
     "metadata": {},
     "output_type": "execute_result"
    }
   ],
   "source": [
    "X_train_scaled.shape"
   ]
  },
  {
   "cell_type": "code",
   "execution_count": 16,
   "metadata": {},
   "outputs": [
    {
     "data": {
      "text/plain": [
       "(100, 5)"
      ]
     },
     "execution_count": 16,
     "metadata": {},
     "output_type": "execute_result"
    }
   ],
   "source": [
    "X_test_scaled.shape"
   ]
  },
  {
   "cell_type": "markdown",
   "metadata": {},
   "source": [
    "now we can implement our linear regression model "
   ]
  },
  {
   "cell_type": "code",
   "execution_count": 48,
   "metadata": {},
   "outputs": [],
   "source": [
    "class linear_regression : \n",
    "    def __init__(self, lr = 0.0001, n_iters = 10000):\n",
    "        self.lr = lr \n",
    "        self.n_iters = n_iters\n",
    "        self.W = None  \n",
    "        self.b = None\n",
    "    \n",
    "    def training_fn(self, x, y ): \n",
    "\n",
    "        no_of_samples , no_of_features = x.shape\n",
    "\n",
    "\n",
    "        #initialising w and b as 0 w as a null vector and b is a forever scaler\n",
    "\n",
    "        self.W = np.zeros(no_of_features)\n",
    "        self.b = 0\n",
    "\n",
    "        for i in range(self.n_iters): \n",
    "            y_cap = np.dot(x,self.W)+self.b\n",
    "\n",
    "\n",
    "            dw = (1/no_of_samples) * np.dot(x.T,(y_cap-y))\n",
    "            db = (1/no_of_samples) * np.sum(y_cap-y)\n",
    "\n",
    "\n",
    "            #update parameters\n",
    "\n",
    "            self.W -= self.lr*dw\n",
    "            self.b -= self.lr*db\n",
    "\n",
    "    def predict(self, x): \n",
    "            y_cap = np.dot(x,self.W.reshape(-1,1))+self.b\n",
    "            return y_cap \n",
    "\n"
   ]
  },
  {
   "cell_type": "code",
   "execution_count": 49,
   "metadata": {},
   "outputs": [],
   "source": [
    "#to instantiate and train model \n",
    "\n",
    "model = linear_regression(lr = 0.0001, n_iters = 10000)\n",
    "model.training_fn(X_train_scaled,Y_train)\n",
    "\n",
    "\n",
    "\n",
    "# to get the weights and bias term\n",
    "coefficients = model.W\n",
    "bias = model.b\n"
   ]
  },
  {
   "cell_type": "code",
   "execution_count": 50,
   "metadata": {},
   "outputs": [
    {
     "name": "stdout",
     "output_type": "stream",
     "text": [
      "coeffecients :  [ 322.02618393 1527.03968429 -183.74582136 -896.98913682  -38.68632986]\n",
      "bias:  1687.2818471005405\n"
     ]
    }
   ],
   "source": [
    "print('coeffecients : ', coefficients)\n",
    "print('bias: ', bias)"
   ]
  },
  {
   "cell_type": "code",
   "execution_count": 51,
   "metadata": {},
   "outputs": [],
   "source": [
    "\n",
    "# Predict on training and testing data\n",
    "train_predictions = model.predict(X_train_scaled).flatten()\n",
    "test_predictions = model.predict(X_test_scaled).flatten()"
   ]
  },
  {
   "cell_type": "code",
   "execution_count": 52,
   "metadata": {},
   "outputs": [
    {
     "data": {
      "image/png": "[encoded data removed]",
      "text/plain": [
       "<Figure size 640x480 with 1 Axes>"
      ]
     },
     "metadata": {},
     "output_type": "display_data"
    }
   ],
   "source": [
    "# Scatter plot for training data\n",
    "plt.scatter(Y_train, train_predictions, label='Training Data', alpha=0.7)\n",
    "# Scatter plot for testing data\n",
    "plt.scatter(Y_test, test_predictions, label='Testing Data', alpha=0.7)\n",
    "\n",
    "plt.xlabel('Actual TOTCHG')\n",
    "plt.ylabel('Predicted TOTCHG')\n",
    "plt.title('Actual vs. Predicted TOTCHG')\n",
    "plt.legend()\n",
    "plt.show()\n",
    "\n"
   ]
  }
 ],
 "metadata": {
  "kernelspec": {
   "display_name": "Python 3",
   "language": "python",
   "name": "python3"
  },
  "language_info": {
   "codemirror_mode": {
    "name": "ipython",
    "version": 3
   },
   "file_extension": ".py",
   "mimetype": "text/x-python",
   "name": "python",
   "nbconvert_exporter": "python",
   "pygments_lexer": "ipython3",
   "version": "3.12.0"
  }
 },
 "nbformat": 4,
 "nbformat_minor": 2
}
